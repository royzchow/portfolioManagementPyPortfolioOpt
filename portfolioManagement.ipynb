{
 "cells": [
  {
   "cell_type": "code",
   "execution_count": 1,
   "id": "ec8c64d8",
   "metadata": {},
   "outputs": [
    {
     "name": "stdout",
     "output_type": "stream",
     "text": [
      "Requirement already satisfied: pandas in /Users/techcoo/miniforge3/envs/env_tf/lib/python3.9/site-packages (1.4.2)\n",
      "Requirement already satisfied: numpy in /Users/techcoo/miniforge3/envs/env_tf/lib/python3.9/site-packages (1.21.6)\n",
      "Requirement already satisfied: matplotlib in /Users/techcoo/miniforge3/envs/env_tf/lib/python3.9/site-packages (3.5.1)\n",
      "Requirement already satisfied: yfinance in /Users/techcoo/miniforge3/envs/env_tf/lib/python3.9/site-packages (0.1.70)\n",
      "Requirement already satisfied: PyPortfolioOpt in /Users/techcoo/miniforge3/envs/env_tf/lib/python3.9/site-packages (1.5.2)\n",
      "Requirement already satisfied: python-dateutil>=2.8.1 in /Users/techcoo/miniforge3/envs/env_tf/lib/python3.9/site-packages (from pandas) (2.8.2)\n",
      "Requirement already satisfied: pytz>=2020.1 in /Users/techcoo/miniforge3/envs/env_tf/lib/python3.9/site-packages (from pandas) (2022.1)\n",
      "Requirement already satisfied: kiwisolver>=1.0.1 in /Users/techcoo/miniforge3/envs/env_tf/lib/python3.9/site-packages (from matplotlib) (1.4.2)\n",
      "Requirement already satisfied: pyparsing>=2.2.1 in /Users/techcoo/miniforge3/envs/env_tf/lib/python3.9/site-packages (from matplotlib) (3.0.8)\n",
      "Requirement already satisfied: cycler>=0.10 in /Users/techcoo/miniforge3/envs/env_tf/lib/python3.9/site-packages (from matplotlib) (0.11.0)\n",
      "Requirement already satisfied: packaging>=20.0 in /Users/techcoo/miniforge3/envs/env_tf/lib/python3.9/site-packages (from matplotlib) (21.3)\n",
      "Requirement already satisfied: fonttools>=4.22.0 in /Users/techcoo/miniforge3/envs/env_tf/lib/python3.9/site-packages (from matplotlib) (4.33.3)\n",
      "Requirement already satisfied: pillow>=6.2.0 in /Users/techcoo/miniforge3/envs/env_tf/lib/python3.9/site-packages (from matplotlib) (9.1.0)\n",
      "Requirement already satisfied: multitasking>=0.0.7 in /Users/techcoo/miniforge3/envs/env_tf/lib/python3.9/site-packages (from yfinance) (0.0.10)\n",
      "Requirement already satisfied: lxml>=4.5.1 in /Users/techcoo/miniforge3/envs/env_tf/lib/python3.9/site-packages (from yfinance) (4.8.0)\n",
      "Requirement already satisfied: requests>=2.26 in /Users/techcoo/miniforge3/envs/env_tf/lib/python3.9/site-packages (from yfinance) (2.27.1)\n",
      "Requirement already satisfied: scipy<2.0,>=1.3 in /Users/techcoo/miniforge3/envs/env_tf/lib/python3.9/site-packages (from PyPortfolioOpt) (1.8.0)\n",
      "Requirement already satisfied: cvxpy<2.0.0,>=1.1.10 in /Users/techcoo/miniforge3/envs/env_tf/lib/python3.9/site-packages (from PyPortfolioOpt) (1.2.0)\n",
      "Requirement already satisfied: osqp>=0.4.1 in /Users/techcoo/miniforge3/envs/env_tf/lib/python3.9/site-packages (from cvxpy<2.0.0,>=1.1.10->PyPortfolioOpt) (0.6.2.post0)\n",
      "Requirement already satisfied: ecos>=2 in /Users/techcoo/miniforge3/envs/env_tf/lib/python3.9/site-packages (from cvxpy<2.0.0,>=1.1.10->PyPortfolioOpt) (2.0.10)\n",
      "Requirement already satisfied: scs>=1.1.6 in /Users/techcoo/miniforge3/envs/env_tf/lib/python3.9/site-packages (from cvxpy<2.0.0,>=1.1.10->PyPortfolioOpt) (3.2.0)\n",
      "Requirement already satisfied: six>=1.5 in /Users/techcoo/miniforge3/envs/env_tf/lib/python3.9/site-packages (from python-dateutil>=2.8.1->pandas) (1.15.0)\n",
      "Requirement already satisfied: charset-normalizer~=2.0.0 in /Users/techcoo/miniforge3/envs/env_tf/lib/python3.9/site-packages (from requests>=2.26->yfinance) (2.0.12)\n",
      "Requirement already satisfied: idna<4,>=2.5 in /Users/techcoo/miniforge3/envs/env_tf/lib/python3.9/site-packages (from requests>=2.26->yfinance) (3.3)\n",
      "Requirement already satisfied: urllib3<1.27,>=1.21.1 in /Users/techcoo/miniforge3/envs/env_tf/lib/python3.9/site-packages (from requests>=2.26->yfinance) (1.26.9)\n",
      "Requirement already satisfied: certifi>=2017.4.17 in /Users/techcoo/miniforge3/envs/env_tf/lib/python3.9/site-packages (from requests>=2.26->yfinance) (2021.10.8)\n",
      "Requirement already satisfied: qdldl in /Users/techcoo/miniforge3/envs/env_tf/lib/python3.9/site-packages (from osqp>=0.4.1->cvxpy<2.0.0,>=1.1.10->PyPortfolioOpt) (0.1.5)\n"
     ]
    },
    {
     "name": "stderr",
     "output_type": "stream",
     "text": [
      "fatal: destination path 'PyPortfolioOpt' already exists and is not an empty directory.\n"
     ]
    }
   ],
   "source": [
    "!pip install pandas numpy matplotlib yfinance PyPortfolioOpt\n",
    "import os\n",
    "if not os.path.isdir('data'):\n",
    "    os.system('git clone https://github.com/robertmartin8/PyPortfolioOpt.git')\n",
    "    os.chdir('PyPortfolioOpt/cookbook')"
   ]
  },
  {
   "cell_type": "code",
   "execution_count": 2,
   "id": "e5ee8e89",
   "metadata": {},
   "outputs": [],
   "source": [
    "import yfinance as yf\n",
    "import matplotlib.pyplot as plt\n",
    "import pandas as pd\n",
    "import numpy as np"
   ]
  },
  {
   "cell_type": "code",
   "execution_count": 3,
   "id": "03ffbbac",
   "metadata": {},
   "outputs": [],
   "source": [
    "tickers = [\"MSFT\", \"AMZN\", \"KO\", \"MA\", \"COST\", \n",
    "           \"LUV\", \"XOM\", \"PFE\", \"JPM\", \"UNH\", \n",
    "           \"ACN\", \"DIS\", \"GILD\", \"F\", \"TSLA\"]"
   ]
  },
  {
   "cell_type": "code",
   "execution_count": 4,
   "id": "a566567e",
   "metadata": {},
   "outputs": [
    {
     "name": "stdout",
     "output_type": "stream",
     "text": [
      "[*********************100%***********************]  15 of 15 completed\n"
     ]
    }
   ],
   "source": [
    "ohlc = yf.download(tickers, period=\"max\")"
   ]
  },
  {
   "cell_type": "code",
   "execution_count": 5,
   "id": "053d5c9d",
   "metadata": {},
   "outputs": [
    {
     "data": {
      "text/html": [
       "<div>\n",
       "<style scoped>\n",
       "    .dataframe tbody tr th:only-of-type {\n",
       "        vertical-align: middle;\n",
       "    }\n",
       "\n",
       "    .dataframe tbody tr th {\n",
       "        vertical-align: top;\n",
       "    }\n",
       "\n",
       "    .dataframe thead th {\n",
       "        text-align: right;\n",
       "    }\n",
       "</style>\n",
       "<table border=\"1\" class=\"dataframe\">\n",
       "  <thead>\n",
       "    <tr style=\"text-align: right;\">\n",
       "      <th></th>\n",
       "      <th>ACN</th>\n",
       "      <th>AMZN</th>\n",
       "      <th>COST</th>\n",
       "      <th>DIS</th>\n",
       "      <th>F</th>\n",
       "      <th>GILD</th>\n",
       "      <th>JPM</th>\n",
       "      <th>KO</th>\n",
       "      <th>LUV</th>\n",
       "      <th>MA</th>\n",
       "      <th>MSFT</th>\n",
       "      <th>PFE</th>\n",
       "      <th>TSLA</th>\n",
       "      <th>UNH</th>\n",
       "      <th>XOM</th>\n",
       "    </tr>\n",
       "    <tr>\n",
       "      <th>Date</th>\n",
       "      <th></th>\n",
       "      <th></th>\n",
       "      <th></th>\n",
       "      <th></th>\n",
       "      <th></th>\n",
       "      <th></th>\n",
       "      <th></th>\n",
       "      <th></th>\n",
       "      <th></th>\n",
       "      <th></th>\n",
       "      <th></th>\n",
       "      <th></th>\n",
       "      <th></th>\n",
       "      <th></th>\n",
       "      <th></th>\n",
       "    </tr>\n",
       "  </thead>\n",
       "  <tbody>\n",
       "    <tr>\n",
       "      <th>2022-04-25</th>\n",
       "      <td>316.820007</td>\n",
       "      <td>2921.479980</td>\n",
       "      <td>567.287109</td>\n",
       "      <td>119.949997</td>\n",
       "      <td>15.19</td>\n",
       "      <td>62.650002</td>\n",
       "      <td>126.769997</td>\n",
       "      <td>65.940002</td>\n",
       "      <td>46.430000</td>\n",
       "      <td>354.600006</td>\n",
       "      <td>280.720001</td>\n",
       "      <td>48.950001</td>\n",
       "      <td>998.020020</td>\n",
       "      <td>524.270020</td>\n",
       "      <td>82.260002</td>\n",
       "    </tr>\n",
       "    <tr>\n",
       "      <th>2022-04-26</th>\n",
       "      <td>303.100006</td>\n",
       "      <td>2787.820068</td>\n",
       "      <td>552.860535</td>\n",
       "      <td>115.769997</td>\n",
       "      <td>14.71</td>\n",
       "      <td>61.770000</td>\n",
       "      <td>123.019997</td>\n",
       "      <td>65.050003</td>\n",
       "      <td>45.020000</td>\n",
       "      <td>344.109985</td>\n",
       "      <td>270.220001</td>\n",
       "      <td>49.029999</td>\n",
       "      <td>876.419983</td>\n",
       "      <td>513.780029</td>\n",
       "      <td>82.290001</td>\n",
       "    </tr>\n",
       "    <tr>\n",
       "      <th>2022-04-27</th>\n",
       "      <td>303.100006</td>\n",
       "      <td>2763.340088</td>\n",
       "      <td>553.180054</td>\n",
       "      <td>115.209999</td>\n",
       "      <td>14.85</td>\n",
       "      <td>61.590000</td>\n",
       "      <td>121.419998</td>\n",
       "      <td>65.559998</td>\n",
       "      <td>45.939999</td>\n",
       "      <td>361.570007</td>\n",
       "      <td>283.220001</td>\n",
       "      <td>49.740002</td>\n",
       "      <td>881.510010</td>\n",
       "      <td>513.809998</td>\n",
       "      <td>84.639999</td>\n",
       "    </tr>\n",
       "    <tr>\n",
       "      <th>2022-04-28</th>\n",
       "      <td>313.839996</td>\n",
       "      <td>2891.929932</td>\n",
       "      <td>562.000000</td>\n",
       "      <td>115.290001</td>\n",
       "      <td>14.62</td>\n",
       "      <td>61.560001</td>\n",
       "      <td>123.339996</td>\n",
       "      <td>66.190002</td>\n",
       "      <td>46.900002</td>\n",
       "      <td>378.829987</td>\n",
       "      <td>289.630005</td>\n",
       "      <td>50.509998</td>\n",
       "      <td>877.510010</td>\n",
       "      <td>524.419983</td>\n",
       "      <td>87.199997</td>\n",
       "    </tr>\n",
       "    <tr>\n",
       "      <th>2022-04-29</th>\n",
       "      <td>300.359985</td>\n",
       "      <td>2485.629883</td>\n",
       "      <td>531.719971</td>\n",
       "      <td>111.629997</td>\n",
       "      <td>14.16</td>\n",
       "      <td>59.340000</td>\n",
       "      <td>119.360001</td>\n",
       "      <td>64.610001</td>\n",
       "      <td>46.720001</td>\n",
       "      <td>363.380005</td>\n",
       "      <td>277.519989</td>\n",
       "      <td>49.070000</td>\n",
       "      <td>870.760010</td>\n",
       "      <td>508.549988</td>\n",
       "      <td>85.250000</td>\n",
       "    </tr>\n",
       "  </tbody>\n",
       "</table>\n",
       "</div>"
      ],
      "text/plain": [
       "                   ACN         AMZN        COST         DIS      F       GILD  \\\n",
       "Date                                                                            \n",
       "2022-04-25  316.820007  2921.479980  567.287109  119.949997  15.19  62.650002   \n",
       "2022-04-26  303.100006  2787.820068  552.860535  115.769997  14.71  61.770000   \n",
       "2022-04-27  303.100006  2763.340088  553.180054  115.209999  14.85  61.590000   \n",
       "2022-04-28  313.839996  2891.929932  562.000000  115.290001  14.62  61.560001   \n",
       "2022-04-29  300.359985  2485.629883  531.719971  111.629997  14.16  59.340000   \n",
       "\n",
       "                   JPM         KO        LUV          MA        MSFT  \\\n",
       "Date                                                                   \n",
       "2022-04-25  126.769997  65.940002  46.430000  354.600006  280.720001   \n",
       "2022-04-26  123.019997  65.050003  45.020000  344.109985  270.220001   \n",
       "2022-04-27  121.419998  65.559998  45.939999  361.570007  283.220001   \n",
       "2022-04-28  123.339996  66.190002  46.900002  378.829987  289.630005   \n",
       "2022-04-29  119.360001  64.610001  46.720001  363.380005  277.519989   \n",
       "\n",
       "                  PFE        TSLA         UNH        XOM  \n",
       "Date                                                      \n",
       "2022-04-25  48.950001  998.020020  524.270020  82.260002  \n",
       "2022-04-26  49.029999  876.419983  513.780029  82.290001  \n",
       "2022-04-27  49.740002  881.510010  513.809998  84.639999  \n",
       "2022-04-28  50.509998  877.510010  524.419983  87.199997  \n",
       "2022-04-29  49.070000  870.760010  508.549988  85.250000  "
      ]
     },
     "execution_count": 5,
     "metadata": {},
     "output_type": "execute_result"
    }
   ],
   "source": [
    "prices = ohlc[\"Adj Close\"].dropna(how=\"all\")\n",
    "prices.tail()"
   ]
  },
  {
   "cell_type": "code",
   "execution_count": 6,
   "id": "1f0eab96",
   "metadata": {},
   "outputs": [
    {
     "data": {
      "image/png": "[encoded data removed]",
      "text/plain": [
       "<Figure size 1080x720 with 1 Axes>"
      ]
     },
     "metadata": {
      "needs_background": "light"
     },
     "output_type": "display_data"
    }
   ],
   "source": [
    "prices[prices.index >= \"2008-01-01\"].plot(figsize=(15,10));"
   ]
  },
  {
   "cell_type": "code",
   "execution_count": 7,
   "id": "ced45a29",
   "metadata": {},
   "outputs": [
    {
     "data": {
      "text/plain": [
       "'1.5.2'"
      ]
     },
     "execution_count": 7,
     "metadata": {},
     "output_type": "execute_result"
    }
   ],
   "source": [
    "import pypfopt\n",
    "pypfopt.__version__"
   ]
  },
  {
   "cell_type": "code",
   "execution_count": 8,
   "id": "432252c6",
   "metadata": {},
   "outputs": [
    {
     "data": {
      "text/html": [
       "<div>\n",
       "<style scoped>\n",
       "    .dataframe tbody tr th:only-of-type {\n",
       "        vertical-align: middle;\n",
       "    }\n",
       "\n",
       "    .dataframe tbody tr th {\n",
       "        vertical-align: top;\n",
       "    }\n",
       "\n",
       "    .dataframe thead th {\n",
       "        text-align: right;\n",
       "    }\n",
       "</style>\n",
       "<table border=\"1\" class=\"dataframe\">\n",
       "  <thead>\n",
       "    <tr style=\"text-align: right;\">\n",
       "      <th></th>\n",
       "      <th>ACN</th>\n",
       "      <th>AMZN</th>\n",
       "      <th>COST</th>\n",
       "      <th>DIS</th>\n",
       "      <th>F</th>\n",
       "      <th>GILD</th>\n",
       "      <th>JPM</th>\n",
       "      <th>KO</th>\n",
       "      <th>LUV</th>\n",
       "      <th>MA</th>\n",
       "      <th>MSFT</th>\n",
       "      <th>PFE</th>\n",
       "      <th>TSLA</th>\n",
       "      <th>UNH</th>\n",
       "      <th>XOM</th>\n",
       "    </tr>\n",
       "  </thead>\n",
       "  <tbody>\n",
       "    <tr>\n",
       "      <th>ACN</th>\n",
       "      <td>0.090520</td>\n",
       "      <td>0.044760</td>\n",
       "      <td>0.027305</td>\n",
       "      <td>0.040155</td>\n",
       "      <td>0.042678</td>\n",
       "      <td>0.028907</td>\n",
       "      <td>0.048188</td>\n",
       "      <td>0.020150</td>\n",
       "      <td>0.036269</td>\n",
       "      <td>0.045430</td>\n",
       "      <td>0.040623</td>\n",
       "      <td>0.025541</td>\n",
       "      <td>0.039632</td>\n",
       "      <td>0.030336</td>\n",
       "      <td>0.029864</td>\n",
       "    </tr>\n",
       "    <tr>\n",
       "      <th>AMZN</th>\n",
       "      <td>0.044760</td>\n",
       "      <td>0.332533</td>\n",
       "      <td>0.046951</td>\n",
       "      <td>0.054525</td>\n",
       "      <td>0.051321</td>\n",
       "      <td>0.058724</td>\n",
       "      <td>0.065979</td>\n",
       "      <td>0.019805</td>\n",
       "      <td>0.046998</td>\n",
       "      <td>0.055854</td>\n",
       "      <td>0.071644</td>\n",
       "      <td>0.031031</td>\n",
       "      <td>0.058501</td>\n",
       "      <td>0.034682</td>\n",
       "      <td>0.026323</td>\n",
       "    </tr>\n",
       "    <tr>\n",
       "      <th>COST</th>\n",
       "      <td>0.027305</td>\n",
       "      <td>0.046951</td>\n",
       "      <td>0.101110</td>\n",
       "      <td>0.031491</td>\n",
       "      <td>0.030935</td>\n",
       "      <td>0.026959</td>\n",
       "      <td>0.038419</td>\n",
       "      <td>0.020999</td>\n",
       "      <td>0.030852</td>\n",
       "      <td>0.031688</td>\n",
       "      <td>0.036920</td>\n",
       "      <td>0.025225</td>\n",
       "      <td>0.024445</td>\n",
       "      <td>0.027313</td>\n",
       "      <td>0.020196</td>\n",
       "    </tr>\n",
       "    <tr>\n",
       "      <th>DIS</th>\n",
       "      <td>0.040155</td>\n",
       "      <td>0.054525</td>\n",
       "      <td>0.031491</td>\n",
       "      <td>0.099321</td>\n",
       "      <td>0.040339</td>\n",
       "      <td>0.032214</td>\n",
       "      <td>0.047028</td>\n",
       "      <td>0.026073</td>\n",
       "      <td>0.039135</td>\n",
       "      <td>0.050011</td>\n",
       "      <td>0.042284</td>\n",
       "      <td>0.029278</td>\n",
       "      <td>0.038014</td>\n",
       "      <td>0.031941</td>\n",
       "      <td>0.025378</td>\n",
       "    </tr>\n",
       "    <tr>\n",
       "      <th>F</th>\n",
       "      <td>0.042678</td>\n",
       "      <td>0.051321</td>\n",
       "      <td>0.030935</td>\n",
       "      <td>0.040339</td>\n",
       "      <td>0.126563</td>\n",
       "      <td>0.030040</td>\n",
       "      <td>0.054461</td>\n",
       "      <td>0.026185</td>\n",
       "      <td>0.046026</td>\n",
       "      <td>0.061750</td>\n",
       "      <td>0.040804</td>\n",
       "      <td>0.026936</td>\n",
       "      <td>0.051459</td>\n",
       "      <td>0.028914</td>\n",
       "      <td>0.027497</td>\n",
       "    </tr>\n",
       "    <tr>\n",
       "      <th>GILD</th>\n",
       "      <td>0.028907</td>\n",
       "      <td>0.058724</td>\n",
       "      <td>0.026959</td>\n",
       "      <td>0.032214</td>\n",
       "      <td>0.030040</td>\n",
       "      <td>0.235484</td>\n",
       "      <td>0.042492</td>\n",
       "      <td>0.016614</td>\n",
       "      <td>0.030880</td>\n",
       "      <td>0.032420</td>\n",
       "      <td>0.035157</td>\n",
       "      <td>0.032477</td>\n",
       "      <td>0.031610</td>\n",
       "      <td>0.033964</td>\n",
       "      <td>0.021034</td>\n",
       "    </tr>\n",
       "    <tr>\n",
       "      <th>JPM</th>\n",
       "      <td>0.048188</td>\n",
       "      <td>0.065979</td>\n",
       "      <td>0.038419</td>\n",
       "      <td>0.047028</td>\n",
       "      <td>0.054461</td>\n",
       "      <td>0.042492</td>\n",
       "      <td>0.128510</td>\n",
       "      <td>0.027723</td>\n",
       "      <td>0.048922</td>\n",
       "      <td>0.069667</td>\n",
       "      <td>0.049081</td>\n",
       "      <td>0.032693</td>\n",
       "      <td>0.039157</td>\n",
       "      <td>0.038598</td>\n",
       "      <td>0.032953</td>\n",
       "    </tr>\n",
       "    <tr>\n",
       "      <th>KO</th>\n",
       "      <td>0.020150</td>\n",
       "      <td>0.019805</td>\n",
       "      <td>0.020999</td>\n",
       "      <td>0.026073</td>\n",
       "      <td>0.026185</td>\n",
       "      <td>0.016614</td>\n",
       "      <td>0.027723</td>\n",
       "      <td>0.053638</td>\n",
       "      <td>0.022905</td>\n",
       "      <td>0.025992</td>\n",
       "      <td>0.027655</td>\n",
       "      <td>0.026024</td>\n",
       "      <td>0.017747</td>\n",
       "      <td>0.022913</td>\n",
       "      <td>0.020638</td>\n",
       "    </tr>\n",
       "    <tr>\n",
       "      <th>LUV</th>\n",
       "      <td>0.036269</td>\n",
       "      <td>0.046998</td>\n",
       "      <td>0.030852</td>\n",
       "      <td>0.039135</td>\n",
       "      <td>0.046026</td>\n",
       "      <td>0.030880</td>\n",
       "      <td>0.048922</td>\n",
       "      <td>0.022905</td>\n",
       "      <td>0.138606</td>\n",
       "      <td>0.047959</td>\n",
       "      <td>0.036530</td>\n",
       "      <td>0.025807</td>\n",
       "      <td>0.037649</td>\n",
       "      <td>0.032482</td>\n",
       "      <td>0.023167</td>\n",
       "    </tr>\n",
       "    <tr>\n",
       "      <th>MA</th>\n",
       "      <td>0.045430</td>\n",
       "      <td>0.055854</td>\n",
       "      <td>0.031688</td>\n",
       "      <td>0.050011</td>\n",
       "      <td>0.061750</td>\n",
       "      <td>0.032420</td>\n",
       "      <td>0.069667</td>\n",
       "      <td>0.025992</td>\n",
       "      <td>0.047959</td>\n",
       "      <td>0.119132</td>\n",
       "      <td>0.048949</td>\n",
       "      <td>0.032010</td>\n",
       "      <td>0.046717</td>\n",
       "      <td>0.042904</td>\n",
       "      <td>0.041471</td>\n",
       "    </tr>\n",
       "    <tr>\n",
       "      <th>MSFT</th>\n",
       "      <td>0.040623</td>\n",
       "      <td>0.071644</td>\n",
       "      <td>0.036920</td>\n",
       "      <td>0.042284</td>\n",
       "      <td>0.040804</td>\n",
       "      <td>0.035157</td>\n",
       "      <td>0.049081</td>\n",
       "      <td>0.027655</td>\n",
       "      <td>0.036530</td>\n",
       "      <td>0.048949</td>\n",
       "      <td>0.114470</td>\n",
       "      <td>0.030497</td>\n",
       "      <td>0.048490</td>\n",
       "      <td>0.033923</td>\n",
       "      <td>0.028735</td>\n",
       "    </tr>\n",
       "    <tr>\n",
       "      <th>PFE</th>\n",
       "      <td>0.025541</td>\n",
       "      <td>0.031031</td>\n",
       "      <td>0.025225</td>\n",
       "      <td>0.029278</td>\n",
       "      <td>0.026936</td>\n",
       "      <td>0.032477</td>\n",
       "      <td>0.032693</td>\n",
       "      <td>0.026024</td>\n",
       "      <td>0.025807</td>\n",
       "      <td>0.032010</td>\n",
       "      <td>0.030497</td>\n",
       "      <td>0.076237</td>\n",
       "      <td>0.017299</td>\n",
       "      <td>0.028204</td>\n",
       "      <td>0.022972</td>\n",
       "    </tr>\n",
       "    <tr>\n",
       "      <th>TSLA</th>\n",
       "      <td>0.039632</td>\n",
       "      <td>0.058501</td>\n",
       "      <td>0.024445</td>\n",
       "      <td>0.038014</td>\n",
       "      <td>0.051459</td>\n",
       "      <td>0.031610</td>\n",
       "      <td>0.039157</td>\n",
       "      <td>0.017747</td>\n",
       "      <td>0.037649</td>\n",
       "      <td>0.046717</td>\n",
       "      <td>0.048490</td>\n",
       "      <td>0.017299</td>\n",
       "      <td>0.320101</td>\n",
       "      <td>0.030330</td>\n",
       "      <td>0.027889</td>\n",
       "    </tr>\n",
       "    <tr>\n",
       "      <th>UNH</th>\n",
       "      <td>0.030336</td>\n",
       "      <td>0.034682</td>\n",
       "      <td>0.027313</td>\n",
       "      <td>0.031941</td>\n",
       "      <td>0.028914</td>\n",
       "      <td>0.033964</td>\n",
       "      <td>0.038598</td>\n",
       "      <td>0.022913</td>\n",
       "      <td>0.032482</td>\n",
       "      <td>0.042904</td>\n",
       "      <td>0.033923</td>\n",
       "      <td>0.028204</td>\n",
       "      <td>0.030330</td>\n",
       "      <td>0.163073</td>\n",
       "      <td>0.022288</td>\n",
       "    </tr>\n",
       "    <tr>\n",
       "      <th>XOM</th>\n",
       "      <td>0.029864</td>\n",
       "      <td>0.026323</td>\n",
       "      <td>0.020196</td>\n",
       "      <td>0.025378</td>\n",
       "      <td>0.027497</td>\n",
       "      <td>0.021034</td>\n",
       "      <td>0.032953</td>\n",
       "      <td>0.020638</td>\n",
       "      <td>0.023167</td>\n",
       "      <td>0.041471</td>\n",
       "      <td>0.028735</td>\n",
       "      <td>0.022972</td>\n",
       "      <td>0.027889</td>\n",
       "      <td>0.022288</td>\n",
       "      <td>0.051903</td>\n",
       "    </tr>\n",
       "  </tbody>\n",
       "</table>\n",
       "</div>"
      ],
      "text/plain": [
       "           ACN      AMZN      COST       DIS         F      GILD       JPM  \\\n",
       "ACN   0.090520  0.044760  0.027305  0.040155  0.042678  0.028907  0.048188   \n",
       "AMZN  0.044760  0.332533  0.046951  0.054525  0.051321  0.058724  0.065979   \n",
       "COST  0.027305  0.046951  0.101110  0.031491  0.030935  0.026959  0.038419   \n",
       "DIS   0.040155  0.054525  0.031491  0.099321  0.040339  0.032214  0.047028   \n",
       "F     0.042678  0.051321  0.030935  0.040339  0.126563  0.030040  0.054461   \n",
       "GILD  0.028907  0.058724  0.026959  0.032214  0.030040  0.235484  0.042492   \n",
       "JPM   0.048188  0.065979  0.038419  0.047028  0.054461  0.042492  0.128510   \n",
       "KO    0.020150  0.019805  0.020999  0.026073  0.026185  0.016614  0.027723   \n",
       "LUV   0.036269  0.046998  0.030852  0.039135  0.046026  0.030880  0.048922   \n",
       "MA    0.045430  0.055854  0.031688  0.050011  0.061750  0.032420  0.069667   \n",
       "MSFT  0.040623  0.071644  0.036920  0.042284  0.040804  0.035157  0.049081   \n",
       "PFE   0.025541  0.031031  0.025225  0.029278  0.026936  0.032477  0.032693   \n",
       "TSLA  0.039632  0.058501  0.024445  0.038014  0.051459  0.031610  0.039157   \n",
       "UNH   0.030336  0.034682  0.027313  0.031941  0.028914  0.033964  0.038598   \n",
       "XOM   0.029864  0.026323  0.020196  0.025378  0.027497  0.021034  0.032953   \n",
       "\n",
       "            KO       LUV        MA      MSFT       PFE      TSLA       UNH  \\\n",
       "ACN   0.020150  0.036269  0.045430  0.040623  0.025541  0.039632  0.030336   \n",
       "AMZN  0.019805  0.046998  0.055854  0.071644  0.031031  0.058501  0.034682   \n",
       "COST  0.020999  0.030852  0.031688  0.036920  0.025225  0.024445  0.027313   \n",
       "DIS   0.026073  0.039135  0.050011  0.042284  0.029278  0.038014  0.031941   \n",
       "F     0.026185  0.046026  0.061750  0.040804  0.026936  0.051459  0.028914   \n",
       "GILD  0.016614  0.030880  0.032420  0.035157  0.032477  0.031610  0.033964   \n",
       "JPM   0.027723  0.048922  0.069667  0.049081  0.032693  0.039157  0.038598   \n",
       "KO    0.053638  0.022905  0.025992  0.027655  0.026024  0.017747  0.022913   \n",
       "LUV   0.022905  0.138606  0.047959  0.036530  0.025807  0.037649  0.032482   \n",
       "MA    0.025992  0.047959  0.119132  0.048949  0.032010  0.046717  0.042904   \n",
       "MSFT  0.027655  0.036530  0.048949  0.114470  0.030497  0.048490  0.033923   \n",
       "PFE   0.026024  0.025807  0.032010  0.030497  0.076237  0.017299  0.028204   \n",
       "TSLA  0.017747  0.037649  0.046717  0.048490  0.017299  0.320101  0.030330   \n",
       "UNH   0.022913  0.032482  0.042904  0.033923  0.028204  0.030330  0.163073   \n",
       "XOM   0.020638  0.023167  0.041471  0.028735  0.022972  0.027889  0.022288   \n",
       "\n",
       "           XOM  \n",
       "ACN   0.029864  \n",
       "AMZN  0.026323  \n",
       "COST  0.020196  \n",
       "DIS   0.025378  \n",
       "F     0.027497  \n",
       "GILD  0.021034  \n",
       "JPM   0.032953  \n",
       "KO    0.020638  \n",
       "LUV   0.023167  \n",
       "MA    0.041471  \n",
       "MSFT  0.028735  \n",
       "PFE   0.022972  \n",
       "TSLA  0.027889  \n",
       "UNH   0.022288  \n",
       "XOM   0.051903  "
      ]
     },
     "execution_count": 8,
     "metadata": {},
     "output_type": "execute_result"
    }
   ],
   "source": [
    "from pypfopt import risk_models\n",
    "from pypfopt import plotting\n",
    "\n",
    "sample_cov = risk_models.sample_cov(prices, frequency=252)\n",
    "sample_cov"
   ]
  },
  {
   "cell_type": "code",
   "execution_count": 9,
   "id": "76658e63",
   "metadata": {},
   "outputs": [
    {
     "data": {
      "image/png": "[encoded data removed]",
      "text/plain": [
       "<Figure size 432x288 with 2 Axes>"
      ]
     },
     "metadata": {
      "needs_background": "light"
     },
     "output_type": "display_data"
    }
   ],
   "source": [
    "plotting.plot_covariance(sample_cov, plot_correlation=True);"
   ]
  },
  {
   "cell_type": "code",
   "execution_count": 10,
   "id": "87b1fc33",
   "metadata": {},
   "outputs": [
    {
     "data": {
      "image/png": "[encoded data removed]",
      "text/plain": [
       "<Figure size 432x288 with 2 Axes>"
      ]
     },
     "metadata": {
      "needs_background": "light"
     },
     "output_type": "display_data"
    }
   ],
   "source": [
    "S = risk_models.CovarianceShrinkage(prices).ledoit_wolf()\n",
    "plotting.plot_covariance(S, plot_correlation=True);"
   ]
  },
  {
   "cell_type": "code",
   "execution_count": 11,
   "id": "2dc5df7a",
   "metadata": {},
   "outputs": [
    {
     "data": {
      "text/plain": [
       "ACN     0.207838\n",
       "AMZN    0.355193\n",
       "COST    0.193583\n",
       "DIS     0.223529\n",
       "F       0.224240\n",
       "GILD    0.253548\n",
       "JPM     0.251695\n",
       "KO      0.148027\n",
       "LUV     0.227021\n",
       "MA      0.260842\n",
       "MSFT    0.238348\n",
       "PFE     0.177864\n",
       "TSLA    0.281949\n",
       "UNH     0.220054\n",
       "XOM     0.140949\n",
       "Name: mkt, dtype: float64"
      ]
     },
     "execution_count": 11,
     "metadata": {},
     "output_type": "execute_result"
    }
   ],
   "source": [
    "from pypfopt import expected_returns\n",
    "\n",
    "mu = expected_returns.capm_return(prices)\n",
    "mu"
   ]
  },
  {
   "cell_type": "code",
   "execution_count": 12,
   "id": "d2e4366d",
   "metadata": {},
   "outputs": [
    {
     "data": {
      "image/png": "[encoded data removed]",
      "text/plain": [
       "<Figure size 720x432 with 1 Axes>"
      ]
     },
     "metadata": {
      "needs_background": "light"
     },
     "output_type": "display_data"
    }
   ],
   "source": [
    "mu.plot.barh(figsize=(10,6));"
   ]
  },
  {
   "cell_type": "code",
   "execution_count": 13,
   "id": "6f7392b6",
   "metadata": {},
   "outputs": [],
   "source": [
    "from pypfopt import EfficientFrontier"
   ]
  },
  {
   "cell_type": "code",
   "execution_count": 14,
   "id": "2b570867",
   "metadata": {},
   "outputs": [
    {
     "data": {
      "text/plain": [
       "OrderedDict([('ACN', 0.23317),\n",
       "             ('AMZN', 0.00825),\n",
       "             ('COST', 0.10006),\n",
       "             ('DIS', -0.01749),\n",
       "             ('F', -0.0177),\n",
       "             ('GILD', 0.045),\n",
       "             ('JPM', -0.04935),\n",
       "             ('KO', 0.12682),\n",
       "             ('LUV', 0.0241),\n",
       "             ('MA', 0.23061),\n",
       "             ('MSFT', 0.00025),\n",
       "             ('PFE', 0.06672),\n",
       "             ('TSLA', 0.13783),\n",
       "             ('UNH', 0.0317),\n",
       "             ('XOM', 0.08003)])"
      ]
     },
     "execution_count": 14,
     "metadata": {},
     "output_type": "execute_result"
    }
   ],
   "source": [
    "S = risk_models.CovarianceShrinkage(prices).ledoit_wolf()\n",
    "\n",
    "# You don't have to provide expected returns in this case\n",
    "ef = EfficientFrontier(None, S, weight_bounds=(None, None))\n",
    "ef.min_volatility()\n",
    "weights = ef.clean_weights()\n",
    "weights"
   ]
  },
  {
   "cell_type": "code",
   "execution_count": 15,
   "id": "f189495d",
   "metadata": {},
   "outputs": [
    {
     "data": {
      "image/png": "[encoded data removed]",
      "text/plain": [
       "<Figure size 432x288 with 1 Axes>"
      ]
     },
     "metadata": {
      "needs_background": "light"
     },
     "output_type": "display_data"
    }
   ],
   "source": [
    "pd.Series(weights).plot.barh();"
   ]
  },
  {
   "cell_type": "code",
   "execution_count": 16,
   "id": "3faf58c5",
   "metadata": {},
   "outputs": [
    {
     "name": "stdout",
     "output_type": "stream",
     "text": [
      "Annual volatility: 11.9%\n"
     ]
    }
   ],
   "source": [
    "ef.portfolio_performance(verbose=True);"
   ]
  },
  {
   "cell_type": "code",
   "execution_count": 17,
   "id": "317acf04",
   "metadata": {},
   "outputs": [
    {
     "data": {
      "text/html": [
       "<div>\n",
       "<style scoped>\n",
       "    .dataframe tbody tr th:only-of-type {\n",
       "        vertical-align: middle;\n",
       "    }\n",
       "\n",
       "    .dataframe tbody tr th {\n",
       "        vertical-align: top;\n",
       "    }\n",
       "\n",
       "    .dataframe thead th {\n",
       "        text-align: right;\n",
       "    }\n",
       "</style>\n",
       "<table border=\"1\" class=\"dataframe\">\n",
       "  <thead>\n",
       "    <tr style=\"text-align: right;\">\n",
       "      <th></th>\n",
       "      <th>ACN</th>\n",
       "      <th>AMZN</th>\n",
       "      <th>COST</th>\n",
       "      <th>DIS</th>\n",
       "      <th>F</th>\n",
       "      <th>GILD</th>\n",
       "      <th>JPM</th>\n",
       "      <th>KO</th>\n",
       "      <th>LUV</th>\n",
       "      <th>MA</th>\n",
       "      <th>MSFT</th>\n",
       "      <th>PFE</th>\n",
       "      <th>TSLA</th>\n",
       "      <th>UNH</th>\n",
       "      <th>XOM</th>\n",
       "    </tr>\n",
       "    <tr>\n",
       "      <th>Date</th>\n",
       "      <th></th>\n",
       "      <th></th>\n",
       "      <th></th>\n",
       "      <th></th>\n",
       "      <th></th>\n",
       "      <th></th>\n",
       "      <th></th>\n",
       "      <th></th>\n",
       "      <th></th>\n",
       "      <th></th>\n",
       "      <th></th>\n",
       "      <th></th>\n",
       "      <th></th>\n",
       "      <th></th>\n",
       "      <th></th>\n",
       "    </tr>\n",
       "  </thead>\n",
       "  <tbody>\n",
       "    <tr>\n",
       "      <th>1962-01-02</th>\n",
       "      <td>NaN</td>\n",
       "      <td>NaN</td>\n",
       "      <td>NaN</td>\n",
       "      <td>0.058398</td>\n",
       "      <td>NaN</td>\n",
       "      <td>NaN</td>\n",
       "      <td>NaN</td>\n",
       "      <td>0.050745</td>\n",
       "      <td>NaN</td>\n",
       "      <td>NaN</td>\n",
       "      <td>NaN</td>\n",
       "      <td>NaN</td>\n",
       "      <td>NaN</td>\n",
       "      <td>NaN</td>\n",
       "      <td>0.101854</td>\n",
       "    </tr>\n",
       "    <tr>\n",
       "      <th>1962-01-03</th>\n",
       "      <td>NaN</td>\n",
       "      <td>NaN</td>\n",
       "      <td>NaN</td>\n",
       "      <td>0.059182</td>\n",
       "      <td>NaN</td>\n",
       "      <td>NaN</td>\n",
       "      <td>NaN</td>\n",
       "      <td>0.049614</td>\n",
       "      <td>NaN</td>\n",
       "      <td>NaN</td>\n",
       "      <td>NaN</td>\n",
       "      <td>NaN</td>\n",
       "      <td>NaN</td>\n",
       "      <td>NaN</td>\n",
       "      <td>0.103367</td>\n",
       "    </tr>\n",
       "    <tr>\n",
       "      <th>1962-01-04</th>\n",
       "      <td>NaN</td>\n",
       "      <td>NaN</td>\n",
       "      <td>NaN</td>\n",
       "      <td>0.059182</td>\n",
       "      <td>NaN</td>\n",
       "      <td>NaN</td>\n",
       "      <td>NaN</td>\n",
       "      <td>0.049991</td>\n",
       "      <td>NaN</td>\n",
       "      <td>NaN</td>\n",
       "      <td>NaN</td>\n",
       "      <td>NaN</td>\n",
       "      <td>NaN</td>\n",
       "      <td>NaN</td>\n",
       "      <td>0.103619</td>\n",
       "    </tr>\n",
       "    <tr>\n",
       "      <th>1962-01-05</th>\n",
       "      <td>NaN</td>\n",
       "      <td>NaN</td>\n",
       "      <td>NaN</td>\n",
       "      <td>0.059378</td>\n",
       "      <td>NaN</td>\n",
       "      <td>NaN</td>\n",
       "      <td>NaN</td>\n",
       "      <td>0.048860</td>\n",
       "      <td>NaN</td>\n",
       "      <td>NaN</td>\n",
       "      <td>NaN</td>\n",
       "      <td>NaN</td>\n",
       "      <td>NaN</td>\n",
       "      <td>NaN</td>\n",
       "      <td>0.101350</td>\n",
       "    </tr>\n",
       "    <tr>\n",
       "      <th>1962-01-08</th>\n",
       "      <td>NaN</td>\n",
       "      <td>NaN</td>\n",
       "      <td>NaN</td>\n",
       "      <td>0.059182</td>\n",
       "      <td>NaN</td>\n",
       "      <td>NaN</td>\n",
       "      <td>NaN</td>\n",
       "      <td>0.048358</td>\n",
       "      <td>NaN</td>\n",
       "      <td>NaN</td>\n",
       "      <td>NaN</td>\n",
       "      <td>NaN</td>\n",
       "      <td>NaN</td>\n",
       "      <td>NaN</td>\n",
       "      <td>0.101098</td>\n",
       "    </tr>\n",
       "    <tr>\n",
       "      <th>...</th>\n",
       "      <td>...</td>\n",
       "      <td>...</td>\n",
       "      <td>...</td>\n",
       "      <td>...</td>\n",
       "      <td>...</td>\n",
       "      <td>...</td>\n",
       "      <td>...</td>\n",
       "      <td>...</td>\n",
       "      <td>...</td>\n",
       "      <td>...</td>\n",
       "      <td>...</td>\n",
       "      <td>...</td>\n",
       "      <td>...</td>\n",
       "      <td>...</td>\n",
       "      <td>...</td>\n",
       "    </tr>\n",
       "    <tr>\n",
       "      <th>2022-04-25</th>\n",
       "      <td>316.820007</td>\n",
       "      <td>2921.479980</td>\n",
       "      <td>567.287109</td>\n",
       "      <td>119.949997</td>\n",
       "      <td>15.19</td>\n",
       "      <td>62.650002</td>\n",
       "      <td>126.769997</td>\n",
       "      <td>65.940002</td>\n",
       "      <td>46.430000</td>\n",
       "      <td>354.600006</td>\n",
       "      <td>280.720001</td>\n",
       "      <td>48.950001</td>\n",
       "      <td>998.020020</td>\n",
       "      <td>524.270020</td>\n",
       "      <td>82.260002</td>\n",
       "    </tr>\n",
       "    <tr>\n",
       "      <th>2022-04-26</th>\n",
       "      <td>303.100006</td>\n",
       "      <td>2787.820068</td>\n",
       "      <td>552.860535</td>\n",
       "      <td>115.769997</td>\n",
       "      <td>14.71</td>\n",
       "      <td>61.770000</td>\n",
       "      <td>123.019997</td>\n",
       "      <td>65.050003</td>\n",
       "      <td>45.020000</td>\n",
       "      <td>344.109985</td>\n",
       "      <td>270.220001</td>\n",
       "      <td>49.029999</td>\n",
       "      <td>876.419983</td>\n",
       "      <td>513.780029</td>\n",
       "      <td>82.290001</td>\n",
       "    </tr>\n",
       "    <tr>\n",
       "      <th>2022-04-27</th>\n",
       "      <td>303.100006</td>\n",
       "      <td>2763.340088</td>\n",
       "      <td>553.180054</td>\n",
       "      <td>115.209999</td>\n",
       "      <td>14.85</td>\n",
       "      <td>61.590000</td>\n",
       "      <td>121.419998</td>\n",
       "      <td>65.559998</td>\n",
       "      <td>45.939999</td>\n",
       "      <td>361.570007</td>\n",
       "      <td>283.220001</td>\n",
       "      <td>49.740002</td>\n",
       "      <td>881.510010</td>\n",
       "      <td>513.809998</td>\n",
       "      <td>84.639999</td>\n",
       "    </tr>\n",
       "    <tr>\n",
       "      <th>2022-04-28</th>\n",
       "      <td>313.839996</td>\n",
       "      <td>2891.929932</td>\n",
       "      <td>562.000000</td>\n",
       "      <td>115.290001</td>\n",
       "      <td>14.62</td>\n",
       "      <td>61.560001</td>\n",
       "      <td>123.339996</td>\n",
       "      <td>66.190002</td>\n",
       "      <td>46.900002</td>\n",
       "      <td>378.829987</td>\n",
       "      <td>289.630005</td>\n",
       "      <td>50.509998</td>\n",
       "      <td>877.510010</td>\n",
       "      <td>524.419983</td>\n",
       "      <td>87.199997</td>\n",
       "    </tr>\n",
       "    <tr>\n",
       "      <th>2022-04-29</th>\n",
       "      <td>300.359985</td>\n",
       "      <td>2485.629883</td>\n",
       "      <td>531.719971</td>\n",
       "      <td>111.629997</td>\n",
       "      <td>14.16</td>\n",
       "      <td>59.340000</td>\n",
       "      <td>119.360001</td>\n",
       "      <td>64.610001</td>\n",
       "      <td>46.720001</td>\n",
       "      <td>363.380005</td>\n",
       "      <td>277.519989</td>\n",
       "      <td>49.070000</td>\n",
       "      <td>870.760010</td>\n",
       "      <td>508.549988</td>\n",
       "      <td>85.250000</td>\n",
       "    </tr>\n",
       "  </tbody>\n",
       "</table>\n",
       "<p>15187 rows × 15 columns</p>\n",
       "</div>"
      ],
      "text/plain": [
       "                   ACN         AMZN        COST         DIS      F       GILD  \\\n",
       "Date                                                                            \n",
       "1962-01-02         NaN          NaN         NaN    0.058398    NaN        NaN   \n",
       "1962-01-03         NaN          NaN         NaN    0.059182    NaN        NaN   \n",
       "1962-01-04         NaN          NaN         NaN    0.059182    NaN        NaN   \n",
       "1962-01-05         NaN          NaN         NaN    0.059378    NaN        NaN   \n",
       "1962-01-08         NaN          NaN         NaN    0.059182    NaN        NaN   \n",
       "...                ...          ...         ...         ...    ...        ...   \n",
       "2022-04-25  316.820007  2921.479980  567.287109  119.949997  15.19  62.650002   \n",
       "2022-04-26  303.100006  2787.820068  552.860535  115.769997  14.71  61.770000   \n",
       "2022-04-27  303.100006  2763.340088  553.180054  115.209999  14.85  61.590000   \n",
       "2022-04-28  313.839996  2891.929932  562.000000  115.290001  14.62  61.560001   \n",
       "2022-04-29  300.359985  2485.629883  531.719971  111.629997  14.16  59.340000   \n",
       "\n",
       "                   JPM         KO        LUV          MA        MSFT  \\\n",
       "Date                                                                   \n",
       "1962-01-02         NaN   0.050745        NaN         NaN         NaN   \n",
       "1962-01-03         NaN   0.049614        NaN         NaN         NaN   \n",
       "1962-01-04         NaN   0.049991        NaN         NaN         NaN   \n",
       "1962-01-05         NaN   0.048860        NaN         NaN         NaN   \n",
       "1962-01-08         NaN   0.048358        NaN         NaN         NaN   \n",
       "...                ...        ...        ...         ...         ...   \n",
       "2022-04-25  126.769997  65.940002  46.430000  354.600006  280.720001   \n",
       "2022-04-26  123.019997  65.050003  45.020000  344.109985  270.220001   \n",
       "2022-04-27  121.419998  65.559998  45.939999  361.570007  283.220001   \n",
       "2022-04-28  123.339996  66.190002  46.900002  378.829987  289.630005   \n",
       "2022-04-29  119.360001  64.610001  46.720001  363.380005  277.519989   \n",
       "\n",
       "                  PFE        TSLA         UNH        XOM  \n",
       "Date                                                      \n",
       "1962-01-02        NaN         NaN         NaN   0.101854  \n",
       "1962-01-03        NaN         NaN         NaN   0.103367  \n",
       "1962-01-04        NaN         NaN         NaN   0.103619  \n",
       "1962-01-05        NaN         NaN         NaN   0.101350  \n",
       "1962-01-08        NaN         NaN         NaN   0.101098  \n",
       "...               ...         ...         ...        ...  \n",
       "2022-04-25  48.950001  998.020020  524.270020  82.260002  \n",
       "2022-04-26  49.029999  876.419983  513.780029  82.290001  \n",
       "2022-04-27  49.740002  881.510010  513.809998  84.639999  \n",
       "2022-04-28  50.509998  877.510010  524.419983  87.199997  \n",
       "2022-04-29  49.070000  870.760010  508.549988  85.250000  \n",
       "\n",
       "[15187 rows x 15 columns]"
      ]
     },
     "execution_count": 17,
     "metadata": {},
     "output_type": "execute_result"
    }
   ],
   "source": [
    "prices"
   ]
  },
  {
   "cell_type": "code",
   "execution_count": 18,
   "id": "858b524b",
   "metadata": {},
   "outputs": [
    {
     "name": "stdout",
     "output_type": "stream",
     "text": [
      "Discrete allocation performed with $69.13 leftover\n"
     ]
    },
    {
     "data": {
      "text/plain": [
       "{'ACN': 14,\n",
       " 'COST': 4,\n",
       " 'GILD': 14,\n",
       " 'KO': 36,\n",
       " 'LUV': 9,\n",
       " 'MA': 12,\n",
       " 'PFE': 25,\n",
       " 'TSLA': 3,\n",
       " 'UNH': 1,\n",
       " 'XOM': 16,\n",
       " 'DIS': -11,\n",
       " 'F': -89,\n",
       " 'JPM': -29}"
      ]
     },
     "execution_count": 18,
     "metadata": {},
     "output_type": "execute_result"
    }
   ],
   "source": [
    "from pypfopt import DiscreteAllocation\n",
    "\n",
    "latest_prices = prices.iloc[-1]  # prices as of the day you are allocating\n",
    "da = DiscreteAllocation(weights, latest_prices, total_portfolio_value=20000, short_ratio=0.3)\n",
    "alloc, leftover = da.lp_portfolio()\n",
    "print(f\"Discrete allocation performed with ${leftover:.2f} leftover\")\n",
    "alloc"
   ]
  },
  {
   "cell_type": "code",
   "execution_count": 19,
   "id": "ae41b05d",
   "metadata": {},
   "outputs": [],
   "source": [
    "sector_mapper = {\n",
    "    \"MSFT\": \"Tech\",\n",
    "    \"AMZN\": \"Consumer Discretionary\",\n",
    "    \"KO\": \"Consumer Staples\",\n",
    "    \"MA\": \"Financial Services\",\n",
    "    \"COST\": \"Consumer Staples\",\n",
    "    \"LUV\": \"Aerospace\",\n",
    "    \"XOM\": \"Energy\",\n",
    "    \"PFE\": \"Healthcare\",\n",
    "    \"JPM\": \"Financial Services\",\n",
    "    \"UNH\": \"Healthcare\",\n",
    "    \"ACN\": \"Misc\",\n",
    "    \"DIS\": \"Media\",\n",
    "    \"GILD\": \"Healthcare\",\n",
    "    \"F\": \"Auto\",\n",
    "    \"TSLA\": \"Auto\"\n",
    "}\n",
    "\n",
    "sector_lower = {\n",
    "    \"Consumer Staples\": 0.1, # at least 10% to staples\n",
    "    \"Tech\": 0.05 # at least 5% to tech\n",
    "    # For all other sectors, it will be assumed there is no lower bound\n",
    "}\n",
    "\n",
    "sector_upper = {\n",
    "    \"Tech\": 0.2,\n",
    "    \"Aerospace\":0.1,\n",
    "    \"Energy\": 0.1,\n",
    "    \"Auto\":0.15\n",
    "}"
   ]
  },
  {
   "cell_type": "code",
   "execution_count": 20,
   "id": "50894c56",
   "metadata": {},
   "outputs": [],
   "source": [
    "mu = expected_returns.capm_return(prices)\n",
    "S = risk_models.CovarianceShrinkage(prices).ledoit_wolf()\n",
    "\n",
    "ef = EfficientFrontier(mu, S)  # weight_bounds automatically set to (0, 1)\n",
    "ef.add_sector_constraints(sector_mapper, sector_lower, sector_upper)\n",
    "\n",
    "amzn_index = ef.tickers.index(\"AMZN\")\n",
    "ef.add_constraint(lambda w: w[amzn_index] == 0.10)\n",
    "\n",
    "tsla_index = ef.tickers.index(\"TSLA\")\n",
    "ef.add_constraint(lambda w: w[tsla_index] <= 0.05)\n",
    "\n",
    "ef.add_constraint(lambda w: w[10] >= 0.05)\n",
    "\n",
    "ef.max_sharpe()\n",
    "weights = ef.clean_weights()"
   ]
  },
  {
   "cell_type": "code",
   "execution_count": 21,
   "id": "080383d8",
   "metadata": {},
   "outputs": [
    {
     "data": {
      "text/plain": [
       "OrderedDict([('ACN', 0.16986),\n",
       "             ('AMZN', 0.1),\n",
       "             ('COST', 0.0555),\n",
       "             ('DIS', 0.0),\n",
       "             ('F', 0.0),\n",
       "             ('GILD', 0.06284),\n",
       "             ('JPM', 0.0),\n",
       "             ('KO', 0.0445),\n",
       "             ('LUV', 0.0225),\n",
       "             ('MA', 0.38406),\n",
       "             ('MSFT', 0.05),\n",
       "             ('PFE', 0.02633),\n",
       "             ('TSLA', 0.05),\n",
       "             ('UNH', 0.03441),\n",
       "             ('XOM', 0.0)])"
      ]
     },
     "execution_count": 21,
     "metadata": {},
     "output_type": "execute_result"
    }
   ],
   "source": [
    "weights"
   ]
  },
  {
   "cell_type": "code",
   "execution_count": 22,
   "id": "0531da66",
   "metadata": {},
   "outputs": [
    {
     "data": {
      "image/png": "[encoded data removed]",
      "text/plain": [
       "<Figure size 720x720 with 1 Axes>"
      ]
     },
     "metadata": {},
     "output_type": "display_data"
    }
   ],
   "source": [
    "pd.Series(weights).plot.pie(figsize=(10,10));"
   ]
  },
  {
   "cell_type": "code",
   "execution_count": 23,
   "id": "78625a63",
   "metadata": {},
   "outputs": [
    {
     "name": "stdout",
     "output_type": "stream",
     "text": [
      "Energy: 0.000\n",
      "Misc: 0.170\n",
      "Healthcare: 0.124\n",
      "Consumer Discretionary: 0.100\n",
      "Financial Services: 0.384\n",
      "Consumer Staples: 0.100\n",
      "Media: 0.000\n",
      "Auto: 0.050\n",
      "Aerospace: 0.022\n",
      "Tech: 0.050\n"
     ]
    }
   ],
   "source": [
    "# O(N^2) loop not a good idea in a coding interview :)\n",
    "for sector in set(sector_mapper.values()):\n",
    "    total_weight = 0\n",
    "    for t,w in weights.items():\n",
    "        if sector_mapper[t] == sector:\n",
    "            total_weight += w\n",
    "    print(f\"{sector}: {total_weight:.3f}\")"
   ]
  },
  {
   "cell_type": "code",
   "execution_count": 24,
   "id": "b01a75af",
   "metadata": {},
   "outputs": [
    {
     "data": {
      "text/plain": [
       "OrderedDict([('ACN', 0.0),\n",
       "             ('AMZN', 0.1802),\n",
       "             ('COST', 0.1),\n",
       "             ('DIS', 0.0),\n",
       "             ('F', 0.0),\n",
       "             ('GILD', 0.06467),\n",
       "             ('JPM', 0.0),\n",
       "             ('KO', 0.0),\n",
       "             ('LUV', 0.0),\n",
       "             ('MA', 0.44998),\n",
       "             ('MSFT', 0.05),\n",
       "             ('PFE', 0.0),\n",
       "             ('TSLA', 0.15),\n",
       "             ('UNH', 0.00515),\n",
       "             ('XOM', 0.0)])"
      ]
     },
     "execution_count": 24,
     "metadata": {},
     "output_type": "execute_result"
    }
   ],
   "source": [
    "ef = EfficientFrontier(mu, S)\n",
    "ef.add_sector_constraints(sector_mapper, sector_lower, sector_upper)\n",
    "ef.efficient_risk(target_volatility=0.15)\n",
    "weights = ef.clean_weights()\n",
    "weights"
   ]
  },
  {
   "cell_type": "code",
   "execution_count": 25,
   "id": "7dc8351f",
   "metadata": {},
   "outputs": [
    {
     "name": "stdout",
     "output_type": "stream",
     "text": [
      "8/15 tickers have zero weight\n"
     ]
    }
   ],
   "source": [
    "num_small = len([k for k in weights if weights[k] <= 1e-4])\n",
    "print(f\"{num_small}/{len(ef.tickers)} tickers have zero weight\")"
   ]
  },
  {
   "cell_type": "code",
   "execution_count": 26,
   "id": "bb659b13",
   "metadata": {},
   "outputs": [
    {
     "name": "stdout",
     "output_type": "stream",
     "text": [
      "Expected annual return: 27.2%\n",
      "Annual volatility: 15.0%\n",
      "Sharpe Ratio: 1.68\n"
     ]
    }
   ],
   "source": [
    "ef.portfolio_performance(verbose=True);"
   ]
  },
  {
   "cell_type": "code",
   "execution_count": 27,
   "id": "9820240e",
   "metadata": {},
   "outputs": [
    {
     "data": {
      "text/plain": [
       "OrderedDict([('ACN', 0.05063),\n",
       "             ('AMZN', 0.20067),\n",
       "             ('COST', 0.08722),\n",
       "             ('DIS', 0.01436),\n",
       "             ('F', 0.0),\n",
       "             ('GILD', 0.08208),\n",
       "             ('JPM', 0.04623),\n",
       "             ('KO', 0.01278),\n",
       "             ('LUV', 0.03111),\n",
       "             ('MA', 0.23974),\n",
       "             ('MSFT', 0.05),\n",
       "             ('PFE', 0.0),\n",
       "             ('TSLA', 0.15),\n",
       "             ('UNH', 0.03519),\n",
       "             ('XOM', 0.0)])"
      ]
     },
     "execution_count": 27,
     "metadata": {},
     "output_type": "execute_result"
    }
   ],
   "source": [
    "from pypfopt import objective_functions\n",
    "\n",
    "# You must always create a new efficient frontier object\n",
    "ef = EfficientFrontier(mu, S)\n",
    "ef.add_sector_constraints(sector_mapper, sector_lower, sector_upper)\n",
    "ef.add_objective(objective_functions.L2_reg, gamma=0.1)  # gamme is the tuning parameter\n",
    "ef.efficient_risk(0.15)\n",
    "weights = ef.clean_weights()\n",
    "weights"
   ]
  },
  {
   "cell_type": "code",
   "execution_count": 28,
   "id": "98375051",
   "metadata": {},
   "outputs": [
    {
     "name": "stdout",
     "output_type": "stream",
     "text": [
      "3/15 tickers have zero weight\n"
     ]
    }
   ],
   "source": [
    "num_small = len([k for k in weights if weights[k] <= 1e-4])\n",
    "print(f\"{num_small}/{len(ef.tickers)} tickers have zero weight\")"
   ]
  },
  {
   "cell_type": "code",
   "execution_count": 29,
   "id": "b1a0e9ed",
   "metadata": {},
   "outputs": [
    {
     "data": {
      "text/plain": [
       "OrderedDict([('ACN', 0.05588),\n",
       "             ('AMZN', 0.12956),\n",
       "             ('COST', 0.06139),\n",
       "             ('DIS', 0.06372),\n",
       "             ('F', 0.06057),\n",
       "             ('GILD', 0.07873),\n",
       "             ('JPM', 0.07781),\n",
       "             ('KO', 0.03861),\n",
       "             ('LUV', 0.06547),\n",
       "             ('MA', 0.08238),\n",
       "             ('MSFT', 0.07113),\n",
       "             ('PFE', 0.04089),\n",
       "             ('TSLA', 0.08943),\n",
       "             ('UNH', 0.06199),\n",
       "             ('XOM', 0.02243)])"
      ]
     },
     "execution_count": 29,
     "metadata": {},
     "output_type": "execute_result"
    }
   ],
   "source": [
    "ef = EfficientFrontier(mu, S)\n",
    "ef.add_sector_constraints(sector_mapper, sector_lower, sector_upper)\n",
    "ef.add_objective(objective_functions.L2_reg, gamma=1)  # gamme is the tuning parameter\n",
    "ef.efficient_risk(0.15)\n",
    "weights = ef.clean_weights()\n",
    "weights"
   ]
  },
  {
   "cell_type": "code",
   "execution_count": 30,
   "id": "44a8e429",
   "metadata": {},
   "outputs": [
    {
     "data": {
      "image/png": "[encoded data removed]",
      "text/plain": [
       "<Figure size 720x720 with 1 Axes>"
      ]
     },
     "metadata": {},
     "output_type": "display_data"
    }
   ],
   "source": [
    "pd.Series(weights).plot.pie(figsize=(10, 10));"
   ]
  },
  {
   "cell_type": "code",
   "execution_count": 31,
   "id": "e585f25f",
   "metadata": {},
   "outputs": [
    {
     "name": "stdout",
     "output_type": "stream",
     "text": [
      "Expected annual return: 24.5%\n",
      "Annual volatility: 14.9%\n",
      "Sharpe Ratio: 1.51\n"
     ]
    }
   ],
   "source": [
    "ef.portfolio_performance(verbose=True);\n"
   ]
  },
  {
   "cell_type": "code",
   "execution_count": 32,
   "id": "a30f650f",
   "metadata": {},
   "outputs": [
    {
     "data": {
      "text/plain": [
       "OrderedDict([('ACN', -0.03658),\n",
       "             ('AMZN', 0.21969),\n",
       "             ('COST', -0.06111),\n",
       "             ('DIS', -0.00253),\n",
       "             ('F', -0.00268),\n",
       "             ('GILD', 0.04529),\n",
       "             ('JPM', 0.04628),\n",
       "             ('KO', -0.14107),\n",
       "             ('LUV', 0.00129),\n",
       "             ('MA', 0.06374),\n",
       "             ('MSFT', 0.02043),\n",
       "             ('PFE', -0.08612),\n",
       "             ('TSLA', 0.09972),\n",
       "             ('UNH', -0.01039),\n",
       "             ('XOM', -0.15596)])"
      ]
     },
     "execution_count": 32,
     "metadata": {},
     "output_type": "execute_result"
    }
   ],
   "source": [
    "# Must have no weight bounds to allow shorts\n",
    "ef = EfficientFrontier(mu, S, weight_bounds=(None, None))\n",
    "ef.add_objective(objective_functions.L2_reg)\n",
    "ef.efficient_return(target_return=0.07, market_neutral=True)\n",
    "weights = ef.clean_weights()\n",
    "weights"
   ]
  },
  {
   "cell_type": "code",
   "execution_count": 33,
   "id": "20cf5270",
   "metadata": {},
   "outputs": [
    {
     "name": "stdout",
     "output_type": "stream",
     "text": [
      "Expected annual return: 7.0%\n",
      "Annual volatility: 10.7%\n",
      "Sharpe Ratio: 0.47\n"
     ]
    }
   ],
   "source": [
    "ef.portfolio_performance(verbose=True);"
   ]
  },
  {
   "cell_type": "code",
   "execution_count": 34,
   "id": "58214b9c",
   "metadata": {},
   "outputs": [
    {
     "data": {
      "image/png": "[encoded data removed]",
      "text/plain": [
       "<Figure size 720x432 with 1 Axes>"
      ]
     },
     "metadata": {
      "needs_background": "light"
     },
     "output_type": "display_data"
    }
   ],
   "source": [
    "pd.Series(weights).plot.barh(figsize=(10,6));"
   ]
  },
  {
   "cell_type": "code",
   "execution_count": 35,
   "id": "bf10145c",
   "metadata": {},
   "outputs": [
    {
     "name": "stdout",
     "output_type": "stream",
     "text": [
      "Net weight: 0.00\n"
     ]
    }
   ],
   "source": [
    "print(f\"Net weight: {sum(weights.values()):.2f}\")"
   ]
  },
  {
   "cell_type": "code",
   "execution_count": 36,
   "id": "222c15dd",
   "metadata": {},
   "outputs": [
    {
     "data": {
      "image/png": "[encoded data removed]",
      "text/plain": [
       "<Figure size 432x288 with 2 Axes>"
      ]
     },
     "metadata": {
      "needs_background": "light"
     },
     "output_type": "display_data"
    }
   ],
   "source": [
    "semicov = risk_models.semicovariance(prices, benchmark=0)\n",
    "plotting.plot_covariance(semicov);"
   ]
  },
  {
   "cell_type": "code",
   "execution_count": 37,
   "id": "5fba5f16",
   "metadata": {},
   "outputs": [
    {
     "data": {
      "text/plain": [
       "OrderedDict([('ACN', 0.25679),\n",
       "             ('AMZN', 0.0),\n",
       "             ('COST', 0.08959),\n",
       "             ('DIS', 0.0),\n",
       "             ('F', 0.0),\n",
       "             ('GILD', 0.01066),\n",
       "             ('JPM', 0.0),\n",
       "             ('KO', 0.13504),\n",
       "             ('LUV', 0.0),\n",
       "             ('MA', 0.3067),\n",
       "             ('MSFT', 0.0),\n",
       "             ('PFE', 0.04854),\n",
       "             ('TSLA', 0.13866),\n",
       "             ('UNH', 0.0),\n",
       "             ('XOM', 0.01403)])"
      ]
     },
     "execution_count": 37,
     "metadata": {},
     "output_type": "execute_result"
    }
   ],
   "source": [
    "ef = EfficientFrontier(mu, semicov)\n",
    "ef.efficient_return(0.2)\n",
    "weights = ef.clean_weights()\n",
    "weights"
   ]
  },
  {
   "cell_type": "code",
   "execution_count": 38,
   "id": "c23be7e5",
   "metadata": {},
   "outputs": [
    {
     "name": "stdout",
     "output_type": "stream",
     "text": [
      "Expected annual return: 22.3%\n",
      "Annual volatility: 9.0%\n",
      "Sharpe Ratio: 2.25\n"
     ]
    }
   ],
   "source": [
    "ef.portfolio_performance(verbose=True);"
   ]
  },
  {
   "cell_type": "code",
   "execution_count": 39,
   "id": "73f80f27",
   "metadata": {},
   "outputs": [],
   "source": [
    "returns = expected_returns.returns_from_prices(prices)\n",
    "returns = returns.dropna()"
   ]
  },
  {
   "cell_type": "code",
   "execution_count": 40,
   "id": "30515367",
   "metadata": {},
   "outputs": [
    {
     "name": "stdout",
     "output_type": "stream",
     "text": [
      "Expected annual return: 20.0%\n",
      "Annual semi-deviation: 10.2%\n",
      "Sortino Ratio: 1.76\n"
     ]
    }
   ],
   "source": [
    "from pypfopt import EfficientSemivariance\n",
    "\n",
    "es = EfficientSemivariance(mu, returns)\n",
    "es.efficient_return(0.2)\n",
    "es.portfolio_performance(verbose=True);"
   ]
  },
  {
   "cell_type": "code",
   "execution_count": 41,
   "id": "17776a3f",
   "metadata": {},
   "outputs": [
    {
     "name": "stdout",
     "output_type": "stream",
     "text": [
      "Expected annual return: 22.3%\n",
      "Annual semi-deviation: 14.0%\n",
      "Sortino Ratio: 1.45\n"
     ]
    }
   ],
   "source": [
    "es.weights = ef.weights\n",
    "es.portfolio_performance(verbose=True);"
   ]
  },
  {
   "cell_type": "code",
   "execution_count": 42,
   "id": "070e4093",
   "metadata": {},
   "outputs": [
    {
     "data": {
      "text/html": [
       "<div>\n",
       "<style scoped>\n",
       "    .dataframe tbody tr th:only-of-type {\n",
       "        vertical-align: middle;\n",
       "    }\n",
       "\n",
       "    .dataframe tbody tr th {\n",
       "        vertical-align: top;\n",
       "    }\n",
       "\n",
       "    .dataframe thead th {\n",
       "        text-align: right;\n",
       "    }\n",
       "</style>\n",
       "<table border=\"1\" class=\"dataframe\">\n",
       "  <thead>\n",
       "    <tr style=\"text-align: right;\">\n",
       "      <th></th>\n",
       "      <th>ACN</th>\n",
       "      <th>AMZN</th>\n",
       "      <th>COST</th>\n",
       "      <th>DIS</th>\n",
       "      <th>F</th>\n",
       "      <th>GILD</th>\n",
       "      <th>JPM</th>\n",
       "      <th>KO</th>\n",
       "      <th>LUV</th>\n",
       "      <th>MA</th>\n",
       "      <th>MSFT</th>\n",
       "      <th>PFE</th>\n",
       "      <th>TSLA</th>\n",
       "      <th>UNH</th>\n",
       "      <th>XOM</th>\n",
       "    </tr>\n",
       "    <tr>\n",
       "      <th>Date</th>\n",
       "      <th></th>\n",
       "      <th></th>\n",
       "      <th></th>\n",
       "      <th></th>\n",
       "      <th></th>\n",
       "      <th></th>\n",
       "      <th></th>\n",
       "      <th></th>\n",
       "      <th></th>\n",
       "      <th></th>\n",
       "      <th></th>\n",
       "      <th></th>\n",
       "      <th></th>\n",
       "      <th></th>\n",
       "      <th></th>\n",
       "    </tr>\n",
       "  </thead>\n",
       "  <tbody>\n",
       "    <tr>\n",
       "      <th>2010-06-30</th>\n",
       "      <td>0.000000</td>\n",
       "      <td>0.005985</td>\n",
       "      <td>-0.014381</td>\n",
       "      <td>-0.024768</td>\n",
       "      <td>0.020242</td>\n",
       "      <td>-0.019732</td>\n",
       "      <td>-0.012142</td>\n",
       "      <td>-0.004172</td>\n",
       "      <td>0.000000</td>\n",
       "      <td>-0.017045</td>\n",
       "      <td>-0.012870</td>\n",
       "      <td>-0.001401</td>\n",
       "      <td>-0.002512</td>\n",
       "      <td>-0.008034</td>\n",
       "      <td>-0.003840</td>\n",
       "    </tr>\n",
       "    <tr>\n",
       "      <th>2010-07-01</th>\n",
       "      <td>-0.009573</td>\n",
       "      <td>0.015559</td>\n",
       "      <td>0.001277</td>\n",
       "      <td>-0.000317</td>\n",
       "      <td>0.048611</td>\n",
       "      <td>-0.004084</td>\n",
       "      <td>-0.013129</td>\n",
       "      <td>-0.001796</td>\n",
       "      <td>-0.010801</td>\n",
       "      <td>0.016652</td>\n",
       "      <td>0.006519</td>\n",
       "      <td>-0.002104</td>\n",
       "      <td>-0.078472</td>\n",
       "      <td>-0.019366</td>\n",
       "      <td>-0.008060</td>\n",
       "    </tr>\n",
       "    <tr>\n",
       "      <th>2010-07-02</th>\n",
       "      <td>-0.008882</td>\n",
       "      <td>-0.016402</td>\n",
       "      <td>-0.012204</td>\n",
       "      <td>-0.003493</td>\n",
       "      <td>-0.027436</td>\n",
       "      <td>0.021383</td>\n",
       "      <td>-0.006929</td>\n",
       "      <td>0.000400</td>\n",
       "      <td>-0.021838</td>\n",
       "      <td>0.000345</td>\n",
       "      <td>0.004750</td>\n",
       "      <td>-0.006324</td>\n",
       "      <td>-0.125683</td>\n",
       "      <td>0.016158</td>\n",
       "      <td>-0.000706</td>\n",
       "    </tr>\n",
       "    <tr>\n",
       "      <th>2010-07-06</th>\n",
       "      <td>0.012388</td>\n",
       "      <td>0.008430</td>\n",
       "      <td>-0.004242</td>\n",
       "      <td>0.010835</td>\n",
       "      <td>-0.011673</td>\n",
       "      <td>-0.002868</td>\n",
       "      <td>0.013955</td>\n",
       "      <td>0.007592</td>\n",
       "      <td>-0.011163</td>\n",
       "      <td>-0.013513</td>\n",
       "      <td>0.023635</td>\n",
       "      <td>0.010608</td>\n",
       "      <td>-0.160938</td>\n",
       "      <td>0.020848</td>\n",
       "      <td>0.015732</td>\n",
       "    </tr>\n",
       "    <tr>\n",
       "      <th>2010-07-07</th>\n",
       "      <td>0.022129</td>\n",
       "      <td>0.030620</td>\n",
       "      <td>0.005371</td>\n",
       "      <td>0.044767</td>\n",
       "      <td>0.042323</td>\n",
       "      <td>0.004889</td>\n",
       "      <td>0.050096</td>\n",
       "      <td>0.020623</td>\n",
       "      <td>0.062088</td>\n",
       "      <td>0.037694</td>\n",
       "      <td>0.020151</td>\n",
       "      <td>0.023093</td>\n",
       "      <td>-0.019243</td>\n",
       "      <td>0.010731</td>\n",
       "      <td>0.016882</td>\n",
       "    </tr>\n",
       "  </tbody>\n",
       "</table>\n",
       "</div>"
      ],
      "text/plain": [
       "                 ACN      AMZN      COST       DIS         F      GILD  \\\n",
       "Date                                                                     \n",
       "2010-06-30  0.000000  0.005985 -0.014381 -0.024768  0.020242 -0.019732   \n",
       "2010-07-01 -0.009573  0.015559  0.001277 -0.000317  0.048611 -0.004084   \n",
       "2010-07-02 -0.008882 -0.016402 -0.012204 -0.003493 -0.027436  0.021383   \n",
       "2010-07-06  0.012388  0.008430 -0.004242  0.010835 -0.011673 -0.002868   \n",
       "2010-07-07  0.022129  0.030620  0.005371  0.044767  0.042323  0.004889   \n",
       "\n",
       "                 JPM        KO       LUV        MA      MSFT       PFE  \\\n",
       "Date                                                                     \n",
       "2010-06-30 -0.012142 -0.004172  0.000000 -0.017045 -0.012870 -0.001401   \n",
       "2010-07-01 -0.013129 -0.001796 -0.010801  0.016652  0.006519 -0.002104   \n",
       "2010-07-02 -0.006929  0.000400 -0.021838  0.000345  0.004750 -0.006324   \n",
       "2010-07-06  0.013955  0.007592 -0.011163 -0.013513  0.023635  0.010608   \n",
       "2010-07-07  0.050096  0.020623  0.062088  0.037694  0.020151  0.023093   \n",
       "\n",
       "                TSLA       UNH       XOM  \n",
       "Date                                      \n",
       "2010-06-30 -0.002512 -0.008034 -0.003840  \n",
       "2010-07-01 -0.078472 -0.019366 -0.008060  \n",
       "2010-07-02 -0.125683  0.016158 -0.000706  \n",
       "2010-07-06 -0.160938  0.020848  0.015732  \n",
       "2010-07-07 -0.019243  0.010731  0.016882  "
      ]
     },
     "execution_count": 42,
     "metadata": {},
     "output_type": "execute_result"
    }
   ],
   "source": [
    "returns = expected_returns.returns_from_prices(prices).dropna()\n",
    "returns.head()"
   ]
  },
  {
   "cell_type": "code",
   "execution_count": 43,
   "id": "5ea7177b",
   "metadata": {},
   "outputs": [
    {
     "name": "stdout",
     "output_type": "stream",
     "text": [
      "Expected annual return: 25.2%\n",
      "Annual volatility: 13.0%\n",
      "Sharpe Ratio: 1.79\n"
     ]
    }
   ],
   "source": [
    "ef = EfficientFrontier(mu, S)\n",
    "ef.max_sharpe()\n",
    "weight_arr = ef.weights\n",
    "ef.portfolio_performance(verbose=True);"
   ]
  },
  {
   "cell_type": "code",
   "execution_count": 44,
   "id": "d2ecda57",
   "metadata": {},
   "outputs": [
    {
     "data": {
      "image/png": "[encoded data removed]",
      "text/plain": [
       "<Figure size 432x288 with 1 Axes>"
      ]
     },
     "metadata": {
      "needs_background": "light"
     },
     "output_type": "display_data"
    }
   ],
   "source": [
    "# Compute CVaR\n",
    "portfolio_rets = (returns * weight_arr).sum(axis=1)\n",
    "portfolio_rets.hist(bins=50);"
   ]
  },
  {
   "cell_type": "code",
   "execution_count": 45,
   "id": "26c6ecb0",
   "metadata": {},
   "outputs": [
    {
     "name": "stdout",
     "output_type": "stream",
     "text": [
      "VaR: -2.18%\n",
      "CVaR: -3.27%\n"
     ]
    }
   ],
   "source": [
    "# VaR\n",
    "var = portfolio_rets.quantile(0.05)\n",
    "cvar = portfolio_rets[portfolio_rets <= var].mean()\n",
    "print(\"VaR: {:.2f}%\".format(100*var))\n",
    "print(\"CVaR: {:.2f}%\".format(100*cvar))"
   ]
  },
  {
   "cell_type": "code",
   "execution_count": 46,
   "id": "2e95b22f",
   "metadata": {},
   "outputs": [
    {
     "name": "stdout",
     "output_type": "stream",
     "text": [
      "Expected annual return: 17.7%\n",
      "Conditional Value at Risk: 2.12%\n"
     ]
    }
   ],
   "source": [
    "from pypfopt import EfficientCVaR\n",
    "\n",
    "ec = EfficientCVaR(mu, returns)\n",
    "ec.min_cvar()\n",
    "ec.portfolio_performance(verbose=True);"
   ]
  },
  {
   "cell_type": "code",
   "execution_count": 47,
   "id": "46a62b76",
   "metadata": {},
   "outputs": [
    {
     "name": "stdout",
     "output_type": "stream",
     "text": [
      "Expected annual return: 24.4%\n",
      "Conditional Value at Risk: 2.50%\n"
     ]
    }
   ],
   "source": [
    "from pypfopt import EfficientCVaR\n",
    "\n",
    "ec = EfficientCVaR(mu, returns)\n",
    "ec.efficient_risk(target_cvar=0.025)\n",
    "ec.portfolio_performance(verbose=True);"
   ]
  },
  {
   "cell_type": "code",
   "execution_count": 48,
   "id": "5ba65f28",
   "metadata": {},
   "outputs": [
    {
     "name": "stdout",
     "output_type": "stream",
     "text": [
      "Expected annual return: 24.9%\n",
      "Annual volatility: 12.8%\n",
      "Sharpe Ratio: 1.78\n"
     ]
    }
   ],
   "source": [
    "from pypfopt import CLA, plotting\n",
    "\n",
    "cla = CLA(mu, S)\n",
    "cla.max_sharpe()\n",
    "cla.portfolio_performance(verbose=True);"
   ]
  },
  {
   "cell_type": "code",
   "execution_count": 49,
   "id": "e30cc1fb",
   "metadata": {},
   "outputs": [
    {
     "data": {
      "image/png": "[encoded data removed]",
      "text/plain": [
       "<Figure size 432x288 with 1 Axes>"
      ]
     },
     "metadata": {
      "needs_background": "light"
     },
     "output_type": "display_data"
    }
   ],
   "source": [
    "ax = plotting.plot_efficient_frontier(cla, showfig=False)"
   ]
  },
  {
   "cell_type": "code",
   "execution_count": 50,
   "id": "0fd5054c",
   "metadata": {},
   "outputs": [],
   "source": [
    "import cvxpy as cp\n",
    "\n",
    "mu = expected_returns.capm_return(prices)\n",
    "S = risk_models.CovarianceShrinkage(prices).ledoit_wolf()\n",
    "\n",
    "ef = EfficientFrontier(mu, S,)\n",
    "big_tech_indices = [t in {\"MSFT\", \"AMZN\", \"TSLA\"} for t in tickers]\n",
    "ef.add_constraint(lambda w: cp.sum(w[big_tech_indices]) <= 0.3)"
   ]
  },
  {
   "cell_type": "code",
   "execution_count": 51,
   "id": "374abe37",
   "metadata": {},
   "outputs": [
    {
     "data": {
      "image/png": "[encoded data removed]",
      "text/plain": [
       "<Figure size 432x288 with 1 Axes>"
      ]
     },
     "metadata": {
      "needs_background": "light"
     },
     "output_type": "display_data"
    }
   ],
   "source": [
    "ax = plotting.plot_efficient_frontier(ef, ef_param=\"risk\", \n",
    "                                      ef_param_range=np.linspace(0.12, 0.4, 50), \n",
    "                                      showfig=False);"
   ]
  },
  {
   "cell_type": "code",
   "execution_count": 52,
   "id": "8c2fe137",
   "metadata": {},
   "outputs": [
    {
     "name": "stdout",
     "output_type": "stream",
     "text": [
      "Sample portfolio returns: [0.2514814  0.22743843 0.21223513 ... 0.22327747 0.24020786 0.22558189]\n",
      "Sample portfolio volatilities: 0       0.148618\n",
      "1       0.155484\n",
      "2       0.151732\n",
      "3       0.160307\n",
      "4       0.163019\n",
      "          ...   \n",
      "9995    0.148045\n",
      "9996    0.164507\n",
      "9997    0.164247\n",
      "9998    0.168758\n",
      "9999    0.161577\n",
      "Length: 10000, dtype: float64\n"
     ]
    }
   ],
   "source": [
    "n_samples = 10000\n",
    "w = np.random.dirichlet(np.ones(len(mu)), n_samples)\n",
    "rets = w.dot(mu)\n",
    "stds = np.sqrt((w.T * (S @ w.T)).sum(axis=0))\n",
    "sharpes = rets / stds\n",
    "\n",
    "print(\"Sample portfolio returns:\", rets)\n",
    "print(\"Sample portfolio volatilities:\", stds)"
   ]
  },
  {
   "cell_type": "code",
   "execution_count": 53,
   "id": "92edce84",
   "metadata": {},
   "outputs": [
    {
     "data": {
      "image/png": "[encoded data removed]",
      "text/plain": [
       "<Figure size 432x288 with 1 Axes>"
      ]
     },
     "metadata": {
      "needs_background": "light"
     },
     "output_type": "display_data"
    }
   ],
   "source": [
    "# Plot efficient frontier with Monte Carlo sim\n",
    "ef = EfficientFrontier(mu, S)\n",
    "\n",
    "fig, ax = plt.subplots()\n",
    "plotting.plot_efficient_frontier(ef, ax=ax, show_assets=False)\n",
    "\n",
    "# Find and plot the tangency portfolio\n",
    "ef2 = EfficientFrontier(mu, S)\n",
    "ef2.max_sharpe()\n",
    "ret_tangent, std_tangent, _ = ef2.portfolio_performance()\n",
    "\n",
    "# Plot random portfolios\n",
    "ax.scatter(stds, rets, marker=\".\", c=sharpes, cmap=\"viridis_r\")\n",
    "\n",
    "# Format\n",
    "ax.set_title(\"Efficient Frontier with random portfolios\")\n",
    "ax.legend()\n",
    "plt.tight_layout()\n",
    "plt.show()"
   ]
  },
  {
   "cell_type": "code",
   "execution_count": null,
   "id": "603f970a",
   "metadata": {},
   "outputs": [],
   "source": []
  }
 ],
 "metadata": {
  "kernelspec": {
   "display_name": "Python 3 (ipykernel)",
   "language": "python",
   "name": "python3"
  },
  "language_info": {
   "codemirror_mode": {
    "name": "ipython",
    "version": 3
   },
   "file_extension": ".py",
   "mimetype": "text/x-python",
   "name": "python",
   "nbconvert_exporter": "python",
   "pygments_lexer": "ipython3",
   "version": "3.9.12"
  }
 },
 "nbformat": 4,
 "nbformat_minor": 5
}
